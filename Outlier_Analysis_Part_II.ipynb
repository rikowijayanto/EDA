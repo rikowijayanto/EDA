{
  "nbformat": 4,
  "nbformat_minor": 0,
  "metadata": {
    "colab": {
      "name": "Outlier Analysis Part II.ipynb",
      "provenance": [],
      "authorship_tag": "ABX9TyPphp0i530esb3PJxtWiDdq"
    },
    "kernelspec": {
      "name": "python3",
      "display_name": "Python 3"
    }
  },
  "cells": [
    {
      "cell_type": "markdown",
      "metadata": {
        "id": "VQcioEh6JRFQ",
        "colab_type": "text"
      },
      "source": [
        "**Outlier Analysis Part II detail**\n",
        "\n",
        "the step copied from https://www.kaggle.com/kevinarvai/outlier-detection-practice-uni-multivariate"
      ]
    },
    {
      "cell_type": "code",
      "metadata": {
        "id": "8a-5NQWJJXvG",
        "colab_type": "code",
        "colab": {
          "base_uri": "https://localhost:8080/",
          "height": 50
        },
        "outputId": "1f539f2a-d2d8-4bc9-fa0e-1f767e2847b5"
      },
      "source": [
        "import numpy as np \n",
        "import pandas as pd \n",
        "\n",
        "import matplotlib.pyplot as plt\n",
        "import seaborn as sns\n",
        "\n",
        "from sklearn.ensemble import IsolationForest\n",
        "from sklearn.covariance import EllipticEnvelope\n",
        "from sklearn.cluster import DBSCAN\n",
        "from sklearn.preprocessing import StandardScaler\n",
        "from sklearn.svm import OneClassSVM\n",
        "from sklearn.neighbors import LocalOutlierFactor"
      ],
      "execution_count": 1,
      "outputs": [
        {
          "output_type": "stream",
          "text": [
            "/usr/local/lib/python3.6/dist-packages/statsmodels/tools/_testing.py:19: FutureWarning: pandas.util.testing is deprecated. Use the functions in the public API at pandas.testing instead.\n",
            "  import pandas.util.testing as tm\n"
          ],
          "name": "stderr"
        }
      ]
    },
    {
      "cell_type": "code",
      "metadata": {
        "id": "kKqp7elPLCxo",
        "colab_type": "code",
        "colab": {}
      },
      "source": [
        "np.random.seed(42)\n",
        "jumlah_data = 3\n",
        "df = pd.DataFrame(np.random.normal(scale=10.0, size=(1000, jumlah_data)), columns=['temp{}'.format(i) for i in range(jumlah_data)])"
      ],
      "execution_count": 0,
      "outputs": []
    },
    {
      "cell_type": "code",
      "metadata": {
        "id": "NSKDOMtFL1fV",
        "colab_type": "code",
        "colab": {
          "base_uri": "https://localhost:8080/",
          "height": 391
        },
        "outputId": "48bb440d-0183-41b5-d68e-cdf3b4da6c11"
      },
      "source": [
        "df"
      ],
      "execution_count": 7,
      "outputs": [
        {
          "output_type": "execute_result",
          "data": {
            "text/html": [
              "<div>\n",
              "<style scoped>\n",
              "    .dataframe tbody tr th:only-of-type {\n",
              "        vertical-align: middle;\n",
              "    }\n",
              "\n",
              "    .dataframe tbody tr th {\n",
              "        vertical-align: top;\n",
              "    }\n",
              "\n",
              "    .dataframe thead th {\n",
              "        text-align: right;\n",
              "    }\n",
              "</style>\n",
              "<table border=\"1\" class=\"dataframe\">\n",
              "  <thead>\n",
              "    <tr style=\"text-align: right;\">\n",
              "      <th></th>\n",
              "      <th>temp0</th>\n",
              "      <th>temp1</th>\n",
              "      <th>temp2</th>\n",
              "    </tr>\n",
              "  </thead>\n",
              "  <tbody>\n",
              "    <tr>\n",
              "      <th>0</th>\n",
              "      <td>4.967142</td>\n",
              "      <td>-1.382643</td>\n",
              "      <td>6.476885</td>\n",
              "    </tr>\n",
              "    <tr>\n",
              "      <th>1</th>\n",
              "      <td>15.230299</td>\n",
              "      <td>-2.341534</td>\n",
              "      <td>-2.341370</td>\n",
              "    </tr>\n",
              "    <tr>\n",
              "      <th>2</th>\n",
              "      <td>15.792128</td>\n",
              "      <td>7.674347</td>\n",
              "      <td>-4.694744</td>\n",
              "    </tr>\n",
              "    <tr>\n",
              "      <th>3</th>\n",
              "      <td>5.425600</td>\n",
              "      <td>-4.634177</td>\n",
              "      <td>-4.657298</td>\n",
              "    </tr>\n",
              "    <tr>\n",
              "      <th>4</th>\n",
              "      <td>2.419623</td>\n",
              "      <td>-19.132802</td>\n",
              "      <td>-17.249178</td>\n",
              "    </tr>\n",
              "    <tr>\n",
              "      <th>...</th>\n",
              "      <td>...</td>\n",
              "      <td>...</td>\n",
              "      <td>...</td>\n",
              "    </tr>\n",
              "    <tr>\n",
              "      <th>995</th>\n",
              "      <td>-9.600463</td>\n",
              "      <td>-1.227089</td>\n",
              "      <td>0.933724</td>\n",
              "    </tr>\n",
              "    <tr>\n",
              "      <th>996</th>\n",
              "      <td>-11.302037</td>\n",
              "      <td>24.116767</td>\n",
              "      <td>15.163941</td>\n",
              "    </tr>\n",
              "    <tr>\n",
              "      <th>997</th>\n",
              "      <td>6.021183</td>\n",
              "      <td>0.720369</td>\n",
              "      <td>-2.122090</td>\n",
              "    </tr>\n",
              "    <tr>\n",
              "      <th>998</th>\n",
              "      <td>-9.519185</td>\n",
              "      <td>0.774805</td>\n",
              "      <td>2.577525</td>\n",
              "    </tr>\n",
              "    <tr>\n",
              "      <th>999</th>\n",
              "      <td>-12.417606</td>\n",
              "      <td>3.341764</td>\n",
              "      <td>-1.552590</td>\n",
              "    </tr>\n",
              "  </tbody>\n",
              "</table>\n",
              "<p>1000 rows × 3 columns</p>\n",
              "</div>"
            ],
            "text/plain": [
              "         temp0      temp1      temp2\n",
              "0     4.967142  -1.382643   6.476885\n",
              "1    15.230299  -2.341534  -2.341370\n",
              "2    15.792128   7.674347  -4.694744\n",
              "3     5.425600  -4.634177  -4.657298\n",
              "4     2.419623 -19.132802 -17.249178\n",
              "..         ...        ...        ...\n",
              "995  -9.600463  -1.227089   0.933724\n",
              "996 -11.302037  24.116767  15.163941\n",
              "997   6.021183   0.720369  -2.122090\n",
              "998  -9.519185   0.774805   2.577525\n",
              "999 -12.417606   3.341764  -1.552590\n",
              "\n",
              "[1000 rows x 3 columns]"
            ]
          },
          "metadata": {
            "tags": []
          },
          "execution_count": 7
        }
      ]
    },
    {
      "cell_type": "code",
      "metadata": {
        "id": "eMErjjeJL2Z2",
        "colab_type": "code",
        "colab": {
          "base_uri": "https://localhost:8080/",
          "height": 688
        },
        "outputId": "adec97cd-f005-44ac-dd19-24de2c5e7d52"
      },
      "source": [
        "df.hist(figsize=(10,10))"
      ],
      "execution_count": 9,
      "outputs": [
        {
          "output_type": "execute_result",
          "data": {
            "text/plain": [
              "array([[<matplotlib.axes._subplots.AxesSubplot object at 0x7fa84fb85c18>,\n",
              "        <matplotlib.axes._subplots.AxesSubplot object at 0x7fa84f4ac9e8>],\n",
              "       [<matplotlib.axes._subplots.AxesSubplot object at 0x7fa84f45bc50>,\n",
              "        <matplotlib.axes._subplots.AxesSubplot object at 0x7fa84f48deb8>]],\n",
              "      dtype=object)"
            ]
          },
          "metadata": {
            "tags": []
          },
          "execution_count": 9
        },
        {
          "output_type": "display_data",
          "data": {
            "image/png": "[encoded data removed]",
            "text/plain": [
              "<Figure size 720x720 with 4 Axes>"
            ]
          },
          "metadata": {
            "tags": [],
            "needs_background": "light"
          }
        }
      ]
    },
    {
      "cell_type": "code",
      "metadata": {
        "id": "hwGEsRSmL9Ys",
        "colab_type": "code",
        "colab": {
          "base_uri": "https://localhost:8080/",
          "height": 180
        },
        "outputId": "f5122c61-798e-4ce0-8104-2fb87525526b"
      },
      "source": [
        "#check the data\n",
        "df.info()"
      ],
      "execution_count": 10,
      "outputs": [
        {
          "output_type": "stream",
          "text": [
            "<class 'pandas.core.frame.DataFrame'>\n",
            "RangeIndex: 1000 entries, 0 to 999\n",
            "Data columns (total 3 columns):\n",
            " #   Column  Non-Null Count  Dtype  \n",
            "---  ------  --------------  -----  \n",
            " 0   temp0   1000 non-null   float64\n",
            " 1   temp1   1000 non-null   float64\n",
            " 2   temp2   1000 non-null   float64\n",
            "dtypes: float64(3)\n",
            "memory usage: 23.6 KB\n"
          ],
          "name": "stdout"
        }
      ]
    },
    {
      "cell_type": "code",
      "metadata": {
        "id": "TYyczRJIMYms",
        "colab_type": "code",
        "colab": {
          "base_uri": "https://localhost:8080/",
          "height": 82
        },
        "outputId": "3c3bf023-4112-48da-ecde-cb73f854af80"
      },
      "source": [
        "df.dtypes"
      ],
      "execution_count": 11,
      "outputs": [
        {
          "output_type": "execute_result",
          "data": {
            "text/plain": [
              "temp0    float64\n",
              "temp1    float64\n",
              "temp2    float64\n",
              "dtype: object"
            ]
          },
          "metadata": {
            "tags": []
          },
          "execution_count": 11
        }
      ]
    },
    {
      "cell_type": "code",
      "metadata": {
        "id": "6oHqedgiMaTv",
        "colab_type": "code",
        "colab": {
          "base_uri": "https://localhost:8080/",
          "height": 277
        },
        "outputId": "2690702f-38bb-4601-98b8-83b6a9cb186e"
      },
      "source": [
        "df.describe()"
      ],
      "execution_count": 12,
      "outputs": [
        {
          "output_type": "execute_result",
          "data": {
            "text/html": [
              "<div>\n",
              "<style scoped>\n",
              "    .dataframe tbody tr th:only-of-type {\n",
              "        vertical-align: middle;\n",
              "    }\n",
              "\n",
              "    .dataframe tbody tr th {\n",
              "        vertical-align: top;\n",
              "    }\n",
              "\n",
              "    .dataframe thead th {\n",
              "        text-align: right;\n",
              "    }\n",
              "</style>\n",
              "<table border=\"1\" class=\"dataframe\">\n",
              "  <thead>\n",
              "    <tr style=\"text-align: right;\">\n",
              "      <th></th>\n",
              "      <th>temp0</th>\n",
              "      <th>temp1</th>\n",
              "      <th>temp2</th>\n",
              "    </tr>\n",
              "  </thead>\n",
              "  <tbody>\n",
              "    <tr>\n",
              "      <th>count</th>\n",
              "      <td>1000.000000</td>\n",
              "      <td>1000.000000</td>\n",
              "      <td>1000.000000</td>\n",
              "    </tr>\n",
              "    <tr>\n",
              "      <th>mean</th>\n",
              "      <td>0.550110</td>\n",
              "      <td>-0.059686</td>\n",
              "      <td>0.469600</td>\n",
              "    </tr>\n",
              "    <tr>\n",
              "      <th>std</th>\n",
              "      <td>9.702123</td>\n",
              "      <td>10.085704</td>\n",
              "      <td>9.811187</td>\n",
              "    </tr>\n",
              "    <tr>\n",
              "      <th>min</th>\n",
              "      <td>-29.403886</td>\n",
              "      <td>-32.412673</td>\n",
              "      <td>-30.195122</td>\n",
              "    </tr>\n",
              "    <tr>\n",
              "      <th>25%</th>\n",
              "      <td>-5.843497</td>\n",
              "      <td>-6.885447</td>\n",
              "      <td>-6.041716</td>\n",
              "    </tr>\n",
              "    <tr>\n",
              "      <th>50%</th>\n",
              "      <td>0.568315</td>\n",
              "      <td>-0.172851</td>\n",
              "      <td>0.422016</td>\n",
              "    </tr>\n",
              "    <tr>\n",
              "      <th>75%</th>\n",
              "      <td>6.643464</td>\n",
              "      <td>6.705497</td>\n",
              "      <td>6.795840</td>\n",
              "    </tr>\n",
              "    <tr>\n",
              "      <th>max</th>\n",
              "      <td>39.262377</td>\n",
              "      <td>31.931076</td>\n",
              "      <td>38.527315</td>\n",
              "    </tr>\n",
              "  </tbody>\n",
              "</table>\n",
              "</div>"
            ],
            "text/plain": [
              "             temp0        temp1        temp2\n",
              "count  1000.000000  1000.000000  1000.000000\n",
              "mean      0.550110    -0.059686     0.469600\n",
              "std       9.702123    10.085704     9.811187\n",
              "min     -29.403886   -32.412673   -30.195122\n",
              "25%      -5.843497    -6.885447    -6.041716\n",
              "50%       0.568315    -0.172851     0.422016\n",
              "75%       6.643464     6.705497     6.795840\n",
              "max      39.262377    31.931076    38.527315"
            ]
          },
          "metadata": {
            "tags": []
          },
          "execution_count": 12
        }
      ]
    },
    {
      "cell_type": "code",
      "metadata": {
        "id": "dh94OqPWMb7r",
        "colab_type": "code",
        "colab": {}
      },
      "source": [
        "def out_std(s, nstd=3.0, return_threshold = False):\n",
        "  data_mean, data_std = s.mean(), s.std()\n",
        "  cut_off = data_std*nstd\n",
        "  lower, upper = data_mean - cut_off, data_mean+cut_off\n",
        "\n",
        "  if return_threshold:\n",
        "    return lower, upper\n",
        "  return [True if x < lower or x > upper else False for x in s]"
      ],
      "execution_count": 0,
      "outputs": []
    },
    {
      "cell_type": "code",
      "metadata": {
        "id": "ev4ztP1jN2Y5",
        "colab_type": "code",
        "colab": {}
      },
      "source": [
        "def out_iqr (s, k=1.5, return_threshold= False):\n",
        "  q25, q75 = np.percentile(s, 25), np.percentile(s, 75)\n",
        "  iqr = q75 - q25\n",
        "  cut_off = iqr*k\n",
        "  lower, upper = iqr- cut_off, iqr+cut_off\n",
        "\n",
        "  if return_threshold:\n",
        "    return lower, upper\n",
        "  return [True if x < lower or x > upper else False for x in s]\n"
      ],
      "execution_count": 0,
      "outputs": []
    },
    {
      "cell_type": "code",
      "metadata": {
        "id": "dR4iIy6uObtF",
        "colab_type": "code",
        "colab": {
          "base_uri": "https://localhost:8080/",
          "height": 33
        },
        "outputId": "bc00d154-9cc5-4d28-e347-5a4f7bab9263"
      },
      "source": [
        "#data temp0 check\n",
        "outlier_check0 = out_std(df['temp0'], nstd=3.0)\n",
        "outlier_check0[:10]"
      ],
      "execution_count": 15,
      "outputs": [
        {
          "output_type": "execute_result",
          "data": {
            "text/plain": [
              "[False, False, False, False, False, False, False, False, False, False]"
            ]
          },
          "metadata": {
            "tags": []
          },
          "execution_count": 15
        }
      ]
    },
    {
      "cell_type": "code",
      "metadata": {
        "id": "QE-gaFklOrna",
        "colab_type": "code",
        "colab": {
          "base_uri": "https://localhost:8080/",
          "height": 98
        },
        "outputId": "8151ad13-4fb2-473b-dc1e-c6cf68e96d81"
      },
      "source": [
        "df['temp0'][outlier_check0]"
      ],
      "execution_count": 17,
      "outputs": [
        {
          "output_type": "execute_result",
          "data": {
            "text/plain": [
              "367   -28.962554\n",
              "513   -28.722622\n",
              "657   -29.403886\n",
              "965    39.262377\n",
              "Name: temp0, dtype: float64"
            ]
          },
          "metadata": {
            "tags": []
          },
          "execution_count": 17
        }
      ]
    },
    {
      "cell_type": "code",
      "metadata": {
        "id": "ZK-WymfpO62K",
        "colab_type": "code",
        "colab": {
          "base_uri": "https://localhost:8080/",
          "height": 387
        },
        "outputId": "0af3e24e-2ad4-4ae2-9341-2999b72902d6"
      },
      "source": [
        "plt.figure(figsize=(8,6))\n",
        "sns.distplot(df['temp0'], kde=False);\n",
        "plt.vlines(df['temp0'][outlier_check0], ymin=0, ymax=110, linestyles='dashed');"
      ],
      "execution_count": 20,
      "outputs": [
        {
          "output_type": "display_data",
          "data": {
            "image/png": "[encoded data removed]",
            "text/plain": [
              "<Figure size 576x432 with 1 Axes>"
            ]
          },
          "metadata": {
            "tags": [],
            "needs_background": "light"
          }
        }
      ]
    },
    {
      "cell_type": "code",
      "metadata": {
        "id": "ahVhfgJKQB-B",
        "colab_type": "code",
        "colab": {}
      },
      "source": [
        "#region standart dev area\n",
        "def plot_cutoff(s, nstd=2.0, color='red'):\n",
        "  lower, upper = out_std(s, nstd=nstd, return_threshold=True)\n",
        "  plt.axvspan(min(s[s < lower], default=s.min()), lower, alpha=0.2, color=color);\n",
        "  plt.axvspan(upper, max(s[s > upper], default=s.max()), alpha=0.2, color=color);\n"
      ],
      "execution_count": 0,
      "outputs": []
    },
    {
      "cell_type": "code",
      "metadata": {
        "id": "ITPHgAocU_Ho",
        "colab_type": "code",
        "colab": {
          "base_uri": "https://localhost:8080/",
          "height": 497
        },
        "outputId": "84ad9f8a-f4fe-40f2-f5fd-d096dad4fe74"
      },
      "source": [
        "plt.figure(figsize=(10,8))\n",
        "sns.distplot(df['temp0'], kde=False)\n",
        "plt.vlines(df['temp0'][outlier_check0], ymin=0, ymax=110, linestyles='dashed');\n",
        "plot_cutoff(df['temp0'], nstd=2.0, color='red')\n",
        "plot_cutoff(df['temp0'], nstd=3.0, color='green')\n",
        "plot_cutoff(df['temp0'], nstd=4.0, color='yellow')\n"
      ],
      "execution_count": 32,
      "outputs": [
        {
          "output_type": "display_data",
          "data": {
            "image/png": "[encoded data removed]",
            "text/plain": [
              "<Figure size 720x576 with 1 Axes>"
            ]
          },
          "metadata": {
            "tags": [],
            "needs_background": "light"
          }
        }
      ]
    },
    {
      "cell_type": "code",
      "metadata": {
        "id": "svaT9bEdVp1u",
        "colab_type": "code",
        "colab": {}
      },
      "source": [
        ""
      ],
      "execution_count": 0,
      "outputs": []
    }
  ]
}